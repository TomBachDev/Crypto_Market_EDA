{
 "cells": [
  {
   "cell_type": "markdown",
   "metadata": {},
   "source": [
    "# Crypto Market Exploratory Data Analysis project"
   ]
  },
  {
   "cell_type": "markdown",
   "metadata": {},
   "source": [
    "## Preparing data files\n",
    "Crypto market data is extracted from Binance Exchange via Binance API.\n",
    "\n",
    "Connection to Binance API with Python is made using library [python-binance v1.0.16](https://python-binance.readthedocs.io/en/latest/index.html)"
   ]
  },
  {
   "cell_type": "code",
   "execution_count": 4,
   "metadata": {},
   "outputs": [],
   "source": [
    "from binance.client import Client\n",
    "\n",
    "# API KEYS\n",
    "api_key = \"drpS2uZND0PAzUPi9NlyS9PzD8bA1sCkavKZRDu3fxL5pRETjYhMrw2DbnkWYqAA\"    #Enter your own API-key here\n",
    "api_secret = \"5ECyo6klJfMxpU1YiwEfUxLm9IOTlMYHkwxE2NWxynSPkr8kqzSK51LH12ZFVyi2\" #Enter your own API-secret here\n",
    "\n",
    "client = Client(api_key, api_secret)"
   ]
  },
  {
   "cell_type": "markdown",
   "metadata": {},
   "source": [
    "Adding [Pandas](https://pandas.pydata.org/docs/) tool to the project's environment."
   ]
  },
  {
   "cell_type": "code",
   "execution_count": 5,
   "metadata": {},
   "outputs": [],
   "source": [
    "import pandas as pd\n",
    "import datetime"
   ]
  },
  {
   "cell_type": "markdown",
   "metadata": {},
   "source": [
    "Extracting tickers (cryptocurrency pairs symbols) from Binance.\n",
    "\n",
    "Putting them into Pandas data frame."
   ]
  },
  {
   "cell_type": "code",
   "execution_count": 6,
   "metadata": {},
   "outputs": [
    {
     "data": {
      "text/html": [
       "<div>\n",
       "<style scoped>\n",
       "    .dataframe tbody tr th:only-of-type {\n",
       "        vertical-align: middle;\n",
       "    }\n",
       "\n",
       "    .dataframe tbody tr th {\n",
       "        vertical-align: top;\n",
       "    }\n",
       "\n",
       "    .dataframe thead th {\n",
       "        text-align: right;\n",
       "    }\n",
       "</style>\n",
       "<table border=\"1\" class=\"dataframe\">\n",
       "  <thead>\n",
       "    <tr style=\"text-align: right;\">\n",
       "      <th></th>\n",
       "      <th>symbol</th>\n",
       "      <th>price</th>\n",
       "    </tr>\n",
       "  </thead>\n",
       "  <tbody>\n",
       "    <tr>\n",
       "      <th>0</th>\n",
       "      <td>ETHBTC</td>\n",
       "      <td>0.07436500</td>\n",
       "    </tr>\n",
       "    <tr>\n",
       "      <th>1</th>\n",
       "      <td>LTCBTC</td>\n",
       "      <td>0.00448700</td>\n",
       "    </tr>\n",
       "    <tr>\n",
       "      <th>2</th>\n",
       "      <td>BNBBTC</td>\n",
       "      <td>0.01721800</td>\n",
       "    </tr>\n",
       "    <tr>\n",
       "      <th>3</th>\n",
       "      <td>NEOBTC</td>\n",
       "      <td>0.00040600</td>\n",
       "    </tr>\n",
       "    <tr>\n",
       "      <th>4</th>\n",
       "      <td>QTUMETH</td>\n",
       "      <td>0.00175400</td>\n",
       "    </tr>\n",
       "    <tr>\n",
       "      <th>...</th>\n",
       "      <td>...</td>\n",
       "      <td>...</td>\n",
       "    </tr>\n",
       "    <tr>\n",
       "      <th>2128</th>\n",
       "      <td>VITEBUSD</td>\n",
       "      <td>0.02476000</td>\n",
       "    </tr>\n",
       "    <tr>\n",
       "      <th>2129</th>\n",
       "      <td>HOOKBTC</td>\n",
       "      <td>0.00012942</td>\n",
       "    </tr>\n",
       "    <tr>\n",
       "      <th>2130</th>\n",
       "      <td>HOOKUSDT</td>\n",
       "      <td>2.18950000</td>\n",
       "    </tr>\n",
       "    <tr>\n",
       "      <th>2131</th>\n",
       "      <td>HOOKBUSD</td>\n",
       "      <td>2.18780000</td>\n",
       "    </tr>\n",
       "    <tr>\n",
       "      <th>2132</th>\n",
       "      <td>HOOKBNB</td>\n",
       "      <td>0.00752140</td>\n",
       "    </tr>\n",
       "  </tbody>\n",
       "</table>\n",
       "<p>2133 rows × 2 columns</p>\n",
       "</div>"
      ],
      "text/plain": [
       "        symbol       price\n",
       "0       ETHBTC  0.07436500\n",
       "1       LTCBTC  0.00448700\n",
       "2       BNBBTC  0.01721800\n",
       "3       NEOBTC  0.00040600\n",
       "4      QTUMETH  0.00175400\n",
       "...        ...         ...\n",
       "2128  VITEBUSD  0.02476000\n",
       "2129   HOOKBTC  0.00012942\n",
       "2130  HOOKUSDT  2.18950000\n",
       "2131  HOOKBUSD  2.18780000\n",
       "2132   HOOKBNB  0.00752140\n",
       "\n",
       "[2133 rows x 2 columns]"
      ]
     },
     "execution_count": 6,
     "metadata": {},
     "output_type": "execute_result"
    }
   ],
   "source": [
    "tickers = client.get_all_tickers()\n",
    "df_tickers = pd.DataFrame(tickers)\n",
    "df_tickers"
   ]
  },
  {
   "cell_type": "markdown",
   "metadata": {},
   "source": [
    "Some data transformation steps to get rid of unnecesary columns and extract only USDT currency pairs."
   ]
  },
  {
   "cell_type": "code",
   "execution_count": 7,
   "metadata": {},
   "outputs": [
    {
     "data": {
      "text/html": [
       "<div>\n",
       "<style scoped>\n",
       "    .dataframe tbody tr th:only-of-type {\n",
       "        vertical-align: middle;\n",
       "    }\n",
       "\n",
       "    .dataframe tbody tr th {\n",
       "        vertical-align: top;\n",
       "    }\n",
       "\n",
       "    .dataframe thead th {\n",
       "        text-align: right;\n",
       "    }\n",
       "</style>\n",
       "<table border=\"1\" class=\"dataframe\">\n",
       "  <thead>\n",
       "    <tr style=\"text-align: right;\">\n",
       "      <th></th>\n",
       "      <th>id</th>\n",
       "      <th>symbol</th>\n",
       "    </tr>\n",
       "  </thead>\n",
       "  <tbody>\n",
       "    <tr>\n",
       "      <th>0</th>\n",
       "      <td>1</td>\n",
       "      <td>BTCUSDT</td>\n",
       "    </tr>\n",
       "    <tr>\n",
       "      <th>1</th>\n",
       "      <td>2</td>\n",
       "      <td>ETHUSDT</td>\n",
       "    </tr>\n",
       "    <tr>\n",
       "      <th>2</th>\n",
       "      <td>3</td>\n",
       "      <td>BNBUSDT</td>\n",
       "    </tr>\n",
       "    <tr>\n",
       "      <th>3</th>\n",
       "      <td>4</td>\n",
       "      <td>BCCUSDT</td>\n",
       "    </tr>\n",
       "    <tr>\n",
       "      <th>4</th>\n",
       "      <td>5</td>\n",
       "      <td>NEOUSDT</td>\n",
       "    </tr>\n",
       "    <tr>\n",
       "      <th>...</th>\n",
       "      <td>...</td>\n",
       "      <td>...</td>\n",
       "    </tr>\n",
       "    <tr>\n",
       "      <th>412</th>\n",
       "      <td>413</td>\n",
       "      <td>APTUSDT</td>\n",
       "    </tr>\n",
       "    <tr>\n",
       "      <th>413</th>\n",
       "      <td>414</td>\n",
       "      <td>OSMOUSDT</td>\n",
       "    </tr>\n",
       "    <tr>\n",
       "      <th>414</th>\n",
       "      <td>415</td>\n",
       "      <td>HFTUSDT</td>\n",
       "    </tr>\n",
       "    <tr>\n",
       "      <th>415</th>\n",
       "      <td>416</td>\n",
       "      <td>PHBUSDT</td>\n",
       "    </tr>\n",
       "    <tr>\n",
       "      <th>416</th>\n",
       "      <td>417</td>\n",
       "      <td>HOOKUSDT</td>\n",
       "    </tr>\n",
       "  </tbody>\n",
       "</table>\n",
       "<p>417 rows × 2 columns</p>\n",
       "</div>"
      ],
      "text/plain": [
       "      id    symbol\n",
       "0      1   BTCUSDT\n",
       "1      2   ETHUSDT\n",
       "2      3   BNBUSDT\n",
       "3      4   BCCUSDT\n",
       "4      5   NEOUSDT\n",
       "..   ...       ...\n",
       "412  413   APTUSDT\n",
       "413  414  OSMOUSDT\n",
       "414  415   HFTUSDT\n",
       "415  416   PHBUSDT\n",
       "416  417  HOOKUSDT\n",
       "\n",
       "[417 rows x 2 columns]"
      ]
     },
     "execution_count": 7,
     "metadata": {},
     "output_type": "execute_result"
    }
   ],
   "source": [
    "df_tickers.drop(columns=['price'], axis=1, inplace=True)\n",
    "df_tickers = df_tickers[df_tickers['symbol'].str.endswith(\"USDT\")]\n",
    "df_tickers = df_tickers.reset_index()\n",
    "df_tickers = df_tickers.rename(columns={\"index\":\"id\"})\n",
    "df_tickers['id'] = df_tickers.index + 1\n",
    "df_tickers"
   ]
  },
  {
   "cell_type": "markdown",
   "metadata": {},
   "source": [
    "Extracting crypto pairs data into CSV files."
   ]
  },
  {
   "cell_type": "code",
   "execution_count": 39,
   "metadata": {},
   "outputs": [],
   "source": [
    "def binanceBarExtractor(symbol):\n",
    "    print('working...')\n",
    "    filename = 'extracted_data/{}_1dBars.csv'.format(symbol)\n",
    "\n",
    "    # method to fetch data of certain crypto pair (symbol), on certain Time Frame(KLINES_INTERVAL_) \n",
    "    # and time period(for starting point it uses method that searches Binance for earliest timestamp; stop point is default - the latest available )\n",
    "    klines = client.get_historical_klines(symbol, Client.KLINE_INTERVAL_1DAY, client._get_earliest_valid_timestamp(symbol, '1d'), None, 1000)\n",
    "    \n",
    "    # Transforming 'klines' into Pandas Date Frame, adding proper formatting for date column and saving it into CSV file\n",
    "    data = pd.DataFrame(klines, columns = ['timestamp', 'open', 'high', 'low', 'close', 'volume', 'close_time', 'quote_av', 'trades', 'tb_base_av', 'tb_quote_av', 'ignore' ])\n",
    "    data.drop(columns=['ignore'], axis=1, inplace=True)\n",
    "    data['timestamp'] = pd.to_datetime(data['timestamp'], unit='ms')\n",
    "    data.set_index('timestamp', inplace=True)\n",
    "    data.to_csv(filename)\n",
    "    print('finished!')"
   ]
  },
  {
   "cell_type": "code",
   "execution_count": 40,
   "metadata": {},
   "outputs": [
    {
     "name": "stdout",
     "output_type": "stream",
     "text": [
      "working...\n",
      "finished!\n",
      "working...\n",
      "finished!\n",
      "working...\n",
      "finished!\n",
      "working...\n",
      "finished!\n",
      "working...\n",
      "finished!\n",
      "working...\n",
      "finished!\n",
      "working...\n",
      "finished!\n",
      "working...\n",
      "finished!\n",
      "working...\n",
      "finished!\n",
      "working...\n",
      "finished!\n",
      "working...\n",
      "finished!\n",
      "working...\n",
      "finished!\n",
      "working...\n",
      "finished!\n",
      "working...\n",
      "finished!\n",
      "working...\n",
      "finished!\n",
      "working...\n",
      "finished!\n",
      "working...\n",
      "finished!\n",
      "working...\n",
      "finished!\n",
      "working...\n",
      "finished!\n",
      "working...\n",
      "finished!\n",
      "working...\n",
      "finished!\n",
      "working...\n",
      "finished!\n",
      "working...\n",
      "finished!\n",
      "working...\n",
      "finished!\n",
      "working...\n",
      "finished!\n",
      "working...\n",
      "finished!\n",
      "working...\n",
      "finished!\n",
      "working...\n",
      "finished!\n",
      "working...\n",
      "finished!\n",
      "working...\n",
      "finished!\n",
      "working...\n",
      "finished!\n",
      "working...\n",
      "finished!\n",
      "working...\n",
      "finished!\n",
      "working...\n",
      "finished!\n",
      "working...\n",
      "finished!\n",
      "working...\n",
      "finished!\n",
      "working...\n",
      "finished!\n",
      "working...\n",
      "finished!\n",
      "working...\n",
      "finished!\n",
      "working...\n",
      "finished!\n",
      "working...\n",
      "finished!\n",
      "working...\n",
      "finished!\n",
      "working...\n",
      "finished!\n",
      "working...\n",
      "finished!\n",
      "working...\n",
      "finished!\n",
      "working...\n",
      "finished!\n",
      "working...\n",
      "finished!\n",
      "working...\n",
      "finished!\n",
      "working...\n",
      "finished!\n",
      "working...\n",
      "finished!\n",
      "working...\n",
      "finished!\n",
      "working...\n",
      "finished!\n",
      "working...\n",
      "finished!\n",
      "working...\n",
      "finished!\n",
      "working...\n",
      "finished!\n",
      "working...\n",
      "finished!\n",
      "working...\n",
      "finished!\n",
      "working...\n",
      "finished!\n",
      "working...\n",
      "finished!\n",
      "working...\n",
      "finished!\n",
      "working...\n",
      "finished!\n",
      "working...\n",
      "finished!\n",
      "working...\n",
      "finished!\n",
      "working...\n",
      "finished!\n",
      "working...\n",
      "finished!\n",
      "working...\n",
      "finished!\n",
      "working...\n",
      "finished!\n",
      "working...\n",
      "finished!\n",
      "working...\n",
      "finished!\n",
      "working...\n",
      "finished!\n",
      "working...\n",
      "finished!\n",
      "working...\n",
      "finished!\n",
      "working...\n",
      "finished!\n",
      "working...\n",
      "finished!\n",
      "working...\n",
      "finished!\n",
      "working...\n",
      "finished!\n",
      "working...\n",
      "finished!\n",
      "working...\n",
      "finished!\n",
      "working...\n",
      "finished!\n",
      "working...\n",
      "finished!\n",
      "working...\n",
      "finished!\n",
      "working...\n",
      "finished!\n",
      "working...\n",
      "finished!\n",
      "working...\n",
      "finished!\n",
      "working...\n",
      "finished!\n",
      "working...\n",
      "finished!\n",
      "working...\n",
      "finished!\n",
      "working...\n",
      "finished!\n",
      "working...\n",
      "finished!\n",
      "working...\n",
      "finished!\n",
      "working...\n",
      "finished!\n",
      "working...\n",
      "finished!\n",
      "working...\n",
      "finished!\n",
      "working...\n",
      "finished!\n",
      "working...\n",
      "finished!\n",
      "working...\n",
      "finished!\n",
      "working...\n",
      "finished!\n",
      "working...\n",
      "finished!\n",
      "working...\n",
      "finished!\n",
      "working...\n",
      "finished!\n",
      "working...\n",
      "finished!\n",
      "working...\n",
      "finished!\n",
      "working...\n",
      "finished!\n",
      "working...\n",
      "finished!\n",
      "working...\n",
      "finished!\n",
      "working...\n",
      "finished!\n",
      "working...\n",
      "finished!\n",
      "working...\n",
      "finished!\n",
      "working...\n",
      "finished!\n",
      "working...\n",
      "finished!\n",
      "working...\n",
      "finished!\n",
      "working...\n",
      "finished!\n",
      "working...\n",
      "finished!\n",
      "working...\n",
      "finished!\n",
      "working...\n",
      "finished!\n",
      "working...\n",
      "finished!\n",
      "working...\n",
      "finished!\n",
      "working...\n",
      "finished!\n",
      "working...\n",
      "finished!\n",
      "working...\n",
      "finished!\n",
      "working...\n",
      "finished!\n",
      "working...\n",
      "finished!\n",
      "working...\n",
      "finished!\n",
      "working...\n",
      "finished!\n",
      "working...\n",
      "finished!\n",
      "working...\n",
      "finished!\n",
      "working...\n",
      "finished!\n",
      "working...\n",
      "finished!\n",
      "working...\n",
      "finished!\n",
      "working...\n",
      "finished!\n",
      "working...\n",
      "finished!\n",
      "working...\n",
      "finished!\n",
      "working...\n",
      "finished!\n",
      "working...\n",
      "finished!\n",
      "working...\n",
      "finished!\n",
      "working...\n",
      "finished!\n",
      "working...\n",
      "finished!\n",
      "working...\n",
      "finished!\n",
      "working...\n",
      "finished!\n",
      "working...\n",
      "finished!\n",
      "working...\n",
      "finished!\n",
      "working...\n",
      "finished!\n",
      "working...\n",
      "finished!\n",
      "working...\n",
      "finished!\n",
      "working...\n",
      "finished!\n",
      "working...\n",
      "finished!\n",
      "working...\n",
      "finished!\n",
      "working...\n",
      "finished!\n",
      "working...\n",
      "finished!\n",
      "working...\n",
      "finished!\n",
      "working...\n",
      "finished!\n",
      "working...\n",
      "finished!\n",
      "working...\n",
      "finished!\n",
      "working...\n",
      "finished!\n",
      "working...\n",
      "finished!\n",
      "working...\n",
      "finished!\n",
      "working...\n",
      "finished!\n",
      "working...\n",
      "finished!\n",
      "working...\n",
      "finished!\n",
      "working...\n",
      "finished!\n",
      "working...\n",
      "finished!\n",
      "working...\n",
      "finished!\n",
      "working...\n",
      "finished!\n",
      "working...\n",
      "finished!\n",
      "working...\n",
      "finished!\n",
      "working...\n",
      "finished!\n",
      "working...\n",
      "finished!\n",
      "working...\n",
      "finished!\n",
      "working...\n",
      "finished!\n",
      "working...\n",
      "finished!\n",
      "working...\n",
      "finished!\n",
      "working...\n",
      "finished!\n",
      "working...\n",
      "finished!\n",
      "working...\n",
      "finished!\n",
      "working...\n",
      "finished!\n",
      "working...\n",
      "finished!\n",
      "working...\n",
      "finished!\n",
      "working...\n",
      "finished!\n",
      "working...\n",
      "finished!\n",
      "working...\n",
      "finished!\n",
      "working...\n",
      "finished!\n",
      "working...\n",
      "finished!\n",
      "working...\n",
      "finished!\n",
      "working...\n",
      "finished!\n",
      "working...\n",
      "finished!\n",
      "working...\n",
      "finished!\n",
      "working...\n",
      "finished!\n",
      "working...\n",
      "finished!\n",
      "working...\n",
      "finished!\n",
      "working...\n",
      "finished!\n",
      "working...\n",
      "finished!\n",
      "working...\n",
      "finished!\n",
      "working...\n",
      "finished!\n",
      "working...\n",
      "finished!\n",
      "working...\n",
      "finished!\n",
      "working...\n",
      "finished!\n",
      "working...\n",
      "finished!\n",
      "working...\n",
      "finished!\n",
      "working...\n",
      "finished!\n",
      "working...\n",
      "finished!\n",
      "working...\n",
      "finished!\n",
      "working...\n",
      "finished!\n",
      "working...\n",
      "finished!\n",
      "working...\n",
      "finished!\n",
      "working...\n",
      "finished!\n",
      "working...\n",
      "finished!\n",
      "working...\n",
      "finished!\n",
      "working...\n",
      "finished!\n",
      "working...\n",
      "finished!\n",
      "working...\n",
      "finished!\n",
      "working...\n",
      "finished!\n",
      "working...\n",
      "finished!\n",
      "working...\n",
      "finished!\n",
      "working...\n",
      "finished!\n",
      "working...\n",
      "finished!\n",
      "working...\n",
      "finished!\n",
      "working...\n",
      "finished!\n",
      "working...\n",
      "finished!\n",
      "working...\n",
      "finished!\n",
      "working...\n",
      "finished!\n",
      "working...\n",
      "finished!\n",
      "working...\n",
      "finished!\n",
      "working...\n",
      "finished!\n",
      "working...\n",
      "finished!\n",
      "working...\n",
      "finished!\n",
      "working...\n",
      "finished!\n",
      "working...\n",
      "finished!\n",
      "working...\n",
      "finished!\n",
      "working...\n",
      "finished!\n",
      "working...\n",
      "finished!\n",
      "working...\n",
      "finished!\n",
      "working...\n",
      "finished!\n",
      "working...\n",
      "finished!\n",
      "working...\n",
      "finished!\n",
      "working...\n",
      "finished!\n",
      "working...\n",
      "finished!\n",
      "working...\n",
      "finished!\n",
      "working...\n",
      "finished!\n",
      "working...\n",
      "finished!\n",
      "working...\n",
      "finished!\n",
      "working...\n",
      "finished!\n",
      "working...\n",
      "finished!\n",
      "working...\n",
      "finished!\n",
      "working...\n",
      "finished!\n",
      "working...\n",
      "finished!\n",
      "working...\n",
      "finished!\n",
      "working...\n",
      "finished!\n",
      "working...\n",
      "finished!\n",
      "working...\n",
      "finished!\n",
      "working...\n",
      "finished!\n",
      "working...\n",
      "finished!\n",
      "working...\n",
      "finished!\n",
      "working...\n",
      "finished!\n",
      "working...\n",
      "finished!\n",
      "working...\n",
      "finished!\n",
      "working...\n",
      "finished!\n",
      "working...\n",
      "finished!\n",
      "working...\n",
      "finished!\n",
      "working...\n",
      "finished!\n",
      "working...\n",
      "finished!\n",
      "working...\n",
      "finished!\n",
      "working...\n",
      "finished!\n",
      "working...\n",
      "finished!\n",
      "working...\n",
      "finished!\n",
      "working...\n",
      "finished!\n",
      "working...\n",
      "finished!\n",
      "working...\n",
      "finished!\n",
      "working...\n",
      "finished!\n",
      "working...\n",
      "finished!\n",
      "working...\n",
      "finished!\n",
      "working...\n",
      "finished!\n",
      "working...\n",
      "finished!\n",
      "working...\n",
      "finished!\n",
      "working...\n",
      "finished!\n",
      "working...\n",
      "finished!\n",
      "working...\n",
      "finished!\n",
      "working...\n",
      "finished!\n",
      "working...\n",
      "finished!\n",
      "working...\n",
      "finished!\n",
      "working...\n",
      "finished!\n",
      "working...\n",
      "finished!\n",
      "working...\n",
      "finished!\n",
      "working...\n",
      "finished!\n",
      "working...\n",
      "finished!\n",
      "working...\n",
      "finished!\n",
      "working...\n",
      "finished!\n",
      "working...\n",
      "finished!\n",
      "working...\n",
      "finished!\n",
      "working...\n",
      "finished!\n",
      "working...\n",
      "finished!\n",
      "working...\n",
      "finished!\n",
      "working...\n",
      "finished!\n",
      "working...\n",
      "finished!\n",
      "working...\n",
      "finished!\n",
      "working...\n",
      "finished!\n",
      "working...\n",
      "finished!\n",
      "working...\n",
      "finished!\n",
      "working...\n",
      "finished!\n",
      "working...\n",
      "finished!\n",
      "working...\n",
      "finished!\n",
      "working...\n",
      "finished!\n",
      "working...\n",
      "finished!\n",
      "working...\n",
      "finished!\n",
      "working...\n",
      "finished!\n",
      "working...\n",
      "finished!\n",
      "working...\n",
      "finished!\n",
      "working...\n",
      "finished!\n",
      "working...\n",
      "finished!\n",
      "working...\n",
      "finished!\n",
      "working...\n",
      "finished!\n",
      "working...\n",
      "finished!\n",
      "working...\n",
      "finished!\n",
      "working...\n",
      "finished!\n",
      "working...\n",
      "finished!\n",
      "working...\n",
      "finished!\n",
      "working...\n",
      "finished!\n",
      "working...\n",
      "finished!\n",
      "working...\n",
      "finished!\n",
      "working...\n",
      "finished!\n",
      "working...\n",
      "finished!\n",
      "working...\n",
      "finished!\n",
      "working...\n",
      "finished!\n",
      "working...\n",
      "finished!\n",
      "working...\n",
      "finished!\n",
      "working...\n",
      "finished!\n",
      "working...\n",
      "finished!\n",
      "working...\n",
      "finished!\n",
      "working...\n",
      "finished!\n",
      "working...\n",
      "finished!\n",
      "working...\n",
      "finished!\n",
      "working...\n",
      "finished!\n",
      "working...\n",
      "finished!\n",
      "working...\n",
      "finished!\n",
      "working...\n",
      "finished!\n",
      "working...\n",
      "finished!\n",
      "working...\n",
      "finished!\n",
      "working...\n",
      "finished!\n",
      "working...\n",
      "finished!\n",
      "working...\n",
      "finished!\n",
      "working...\n",
      "finished!\n",
      "working...\n",
      "finished!\n",
      "working...\n",
      "finished!\n",
      "working...\n",
      "finished!\n",
      "working...\n",
      "finished!\n",
      "working...\n",
      "finished!\n",
      "working...\n",
      "finished!\n",
      "working...\n",
      "finished!\n",
      "working...\n",
      "finished!\n",
      "working...\n",
      "finished!\n",
      "working...\n",
      "finished!\n",
      "working...\n",
      "finished!\n",
      "working...\n",
      "finished!\n",
      "working...\n",
      "finished!\n",
      "working...\n",
      "finished!\n",
      "working...\n",
      "finished!\n",
      "working...\n",
      "finished!\n",
      "working...\n",
      "finished!\n",
      "working...\n",
      "finished!\n",
      "working...\n",
      "finished!\n",
      "working...\n",
      "finished!\n",
      "working...\n",
      "finished!\n",
      "working...\n",
      "finished!\n",
      "working...\n",
      "finished!\n",
      "working...\n",
      "finished!\n",
      "working...\n",
      "finished!\n",
      "working...\n",
      "finished!\n",
      "working...\n",
      "finished!\n",
      "working...\n",
      "finished!\n",
      "working...\n",
      "finished!\n",
      "working...\n",
      "finished!\n",
      "working...\n",
      "finished!\n",
      "working...\n",
      "finished!\n",
      "working...\n",
      "finished!\n",
      "working...\n",
      "finished!\n",
      "working...\n",
      "finished!\n",
      "working...\n",
      "finished!\n",
      "working...\n",
      "finished!\n",
      "working...\n",
      "finished!\n",
      "working...\n",
      "finished!\n",
      "working...\n",
      "finished!\n",
      "working...\n",
      "finished!\n",
      "working...\n",
      "finished!\n",
      "working...\n",
      "finished!\n",
      "working...\n",
      "finished!\n",
      "working...\n",
      "finished!\n",
      "working...\n",
      "finished!\n",
      "working...\n",
      "finished!\n",
      "working...\n",
      "finished!\n",
      "working...\n",
      "finished!\n",
      "working...\n",
      "finished!\n",
      "working...\n",
      "finished!\n",
      "working...\n",
      "finished!\n",
      "working...\n",
      "finished!\n",
      "working...\n",
      "finished!\n",
      "working...\n",
      "finished!\n",
      "working...\n",
      "finished!\n",
      "working...\n",
      "finished!\n",
      "working...\n",
      "finished!\n",
      "working...\n",
      "finished!\n",
      "working...\n",
      "finished!\n",
      "working...\n",
      "finished!\n",
      "working...\n",
      "finished!\n",
      "working...\n",
      "finished!\n",
      "working...\n",
      "finished!\n",
      "working...\n",
      "finished!\n",
      "working...\n",
      "finished!\n",
      "working...\n",
      "finished!\n",
      "working...\n",
      "finished!\n",
      "working...\n",
      "finished!\n",
      "working...\n",
      "finished!\n",
      "working...\n",
      "finished!\n",
      "working...\n",
      "finished!\n",
      "working...\n",
      "finished!\n",
      "working...\n",
      "finished!\n",
      "working...\n",
      "finished!\n",
      "working...\n",
      "finished!\n",
      "working...\n",
      "finished!\n"
     ]
    }
   ],
   "source": [
    "# running 'binanceBarExtractor' method with its 'symbol' argument over 'df_tickers' symbols list\n",
    "for index, row in df_tickers.iterrows():\n",
    "    binanceBarExtractor(row['symbol'])"
   ]
  },
  {
   "cell_type": "markdown",
   "metadata": {},
   "source": [
    "## EDA"
   ]
  },
  {
   "cell_type": "code",
   "execution_count": 8,
   "metadata": {},
   "outputs": [
    {
     "data": {
      "text/html": [
       "<div>\n",
       "<style scoped>\n",
       "    .dataframe tbody tr th:only-of-type {\n",
       "        vertical-align: middle;\n",
       "    }\n",
       "\n",
       "    .dataframe tbody tr th {\n",
       "        vertical-align: top;\n",
       "    }\n",
       "\n",
       "    .dataframe thead th {\n",
       "        text-align: right;\n",
       "    }\n",
       "</style>\n",
       "<table border=\"1\" class=\"dataframe\">\n",
       "  <thead>\n",
       "    <tr style=\"text-align: right;\">\n",
       "      <th></th>\n",
       "      <th>open</th>\n",
       "      <th>high</th>\n",
       "      <th>low</th>\n",
       "      <th>close</th>\n",
       "      <th>volume</th>\n",
       "      <th>close_time</th>\n",
       "      <th>quote_av</th>\n",
       "      <th>trades</th>\n",
       "      <th>tb_base_av</th>\n",
       "      <th>tb_quote_av</th>\n",
       "    </tr>\n",
       "    <tr>\n",
       "      <th>timestamp</th>\n",
       "      <th></th>\n",
       "      <th></th>\n",
       "      <th></th>\n",
       "      <th></th>\n",
       "      <th></th>\n",
       "      <th></th>\n",
       "      <th></th>\n",
       "      <th></th>\n",
       "      <th></th>\n",
       "      <th></th>\n",
       "    </tr>\n",
       "  </thead>\n",
       "  <tbody>\n",
       "    <tr>\n",
       "      <th>2017-08-17</th>\n",
       "      <td>4261.48</td>\n",
       "      <td>4485.39</td>\n",
       "      <td>4200.74</td>\n",
       "      <td>4285.08</td>\n",
       "      <td>795.150377</td>\n",
       "      <td>1503014399999</td>\n",
       "      <td>3.454770e+06</td>\n",
       "      <td>3427</td>\n",
       "      <td>616.248541</td>\n",
       "      <td>2.678216e+06</td>\n",
       "    </tr>\n",
       "    <tr>\n",
       "      <th>2017-08-18</th>\n",
       "      <td>4285.08</td>\n",
       "      <td>4371.52</td>\n",
       "      <td>3938.77</td>\n",
       "      <td>4108.37</td>\n",
       "      <td>1199.888264</td>\n",
       "      <td>1503100799999</td>\n",
       "      <td>5.086958e+06</td>\n",
       "      <td>5233</td>\n",
       "      <td>972.868710</td>\n",
       "      <td>4.129123e+06</td>\n",
       "    </tr>\n",
       "    <tr>\n",
       "      <th>2017-08-19</th>\n",
       "      <td>4108.37</td>\n",
       "      <td>4184.69</td>\n",
       "      <td>3850.00</td>\n",
       "      <td>4139.98</td>\n",
       "      <td>381.309763</td>\n",
       "      <td>1503187199999</td>\n",
       "      <td>1.549484e+06</td>\n",
       "      <td>2153</td>\n",
       "      <td>274.336042</td>\n",
       "      <td>1.118002e+06</td>\n",
       "    </tr>\n",
       "    <tr>\n",
       "      <th>2017-08-20</th>\n",
       "      <td>4120.98</td>\n",
       "      <td>4211.08</td>\n",
       "      <td>4032.62</td>\n",
       "      <td>4086.29</td>\n",
       "      <td>467.083022</td>\n",
       "      <td>1503273599999</td>\n",
       "      <td>1.930364e+06</td>\n",
       "      <td>2321</td>\n",
       "      <td>376.795947</td>\n",
       "      <td>1.557401e+06</td>\n",
       "    </tr>\n",
       "    <tr>\n",
       "      <th>2017-08-21</th>\n",
       "      <td>4069.13</td>\n",
       "      <td>4119.62</td>\n",
       "      <td>3911.79</td>\n",
       "      <td>4016.00</td>\n",
       "      <td>691.743060</td>\n",
       "      <td>1503359999999</td>\n",
       "      <td>2.797232e+06</td>\n",
       "      <td>3972</td>\n",
       "      <td>557.356107</td>\n",
       "      <td>2.255663e+06</td>\n",
       "    </tr>\n",
       "    <tr>\n",
       "      <th>...</th>\n",
       "      <td>...</td>\n",
       "      <td>...</td>\n",
       "      <td>...</td>\n",
       "      <td>...</td>\n",
       "      <td>...</td>\n",
       "      <td>...</td>\n",
       "      <td>...</td>\n",
       "      <td>...</td>\n",
       "      <td>...</td>\n",
       "      <td>...</td>\n",
       "    </tr>\n",
       "    <tr>\n",
       "      <th>2022-11-28</th>\n",
       "      <td>16428.77</td>\n",
       "      <td>16487.04</td>\n",
       "      <td>15995.27</td>\n",
       "      <td>16212.91</td>\n",
       "      <td>252695.403670</td>\n",
       "      <td>1669679999999</td>\n",
       "      <td>4.096399e+09</td>\n",
       "      <td>5570407</td>\n",
       "      <td>125766.806390</td>\n",
       "      <td>2.038825e+09</td>\n",
       "    </tr>\n",
       "    <tr>\n",
       "      <th>2022-11-29</th>\n",
       "      <td>16212.18</td>\n",
       "      <td>16548.71</td>\n",
       "      <td>16100.00</td>\n",
       "      <td>16442.53</td>\n",
       "      <td>248106.250090</td>\n",
       "      <td>1669766399999</td>\n",
       "      <td>4.072651e+09</td>\n",
       "      <td>5206638</td>\n",
       "      <td>123715.140390</td>\n",
       "      <td>2.030828e+09</td>\n",
       "    </tr>\n",
       "    <tr>\n",
       "      <th>2022-11-30</th>\n",
       "      <td>16442.91</td>\n",
       "      <td>17249.00</td>\n",
       "      <td>16428.30</td>\n",
       "      <td>17163.64</td>\n",
       "      <td>303019.807190</td>\n",
       "      <td>1669852799999</td>\n",
       "      <td>5.123595e+09</td>\n",
       "      <td>6519330</td>\n",
       "      <td>151764.572850</td>\n",
       "      <td>2.566042e+09</td>\n",
       "    </tr>\n",
       "    <tr>\n",
       "      <th>2022-12-01</th>\n",
       "      <td>17165.53</td>\n",
       "      <td>17324.00</td>\n",
       "      <td>16855.01</td>\n",
       "      <td>16977.37</td>\n",
       "      <td>232818.182180</td>\n",
       "      <td>1669939199999</td>\n",
       "      <td>3.972607e+09</td>\n",
       "      <td>5097720</td>\n",
       "      <td>116018.888670</td>\n",
       "      <td>1.979693e+09</td>\n",
       "    </tr>\n",
       "    <tr>\n",
       "      <th>2022-12-02</th>\n",
       "      <td>16978.00</td>\n",
       "      <td>17105.73</td>\n",
       "      <td>16787.85</td>\n",
       "      <td>17064.91</td>\n",
       "      <td>193872.647850</td>\n",
       "      <td>1670025599999</td>\n",
       "      <td>3.287310e+09</td>\n",
       "      <td>4142064</td>\n",
       "      <td>95448.463220</td>\n",
       "      <td>1.618398e+09</td>\n",
       "    </tr>\n",
       "  </tbody>\n",
       "</table>\n",
       "<p>1934 rows × 10 columns</p>\n",
       "</div>"
      ],
      "text/plain": [
       "                open      high       low     close         volume  \\\n",
       "timestamp                                                           \n",
       "2017-08-17   4261.48   4485.39   4200.74   4285.08     795.150377   \n",
       "2017-08-18   4285.08   4371.52   3938.77   4108.37    1199.888264   \n",
       "2017-08-19   4108.37   4184.69   3850.00   4139.98     381.309763   \n",
       "2017-08-20   4120.98   4211.08   4032.62   4086.29     467.083022   \n",
       "2017-08-21   4069.13   4119.62   3911.79   4016.00     691.743060   \n",
       "...              ...       ...       ...       ...            ...   \n",
       "2022-11-28  16428.77  16487.04  15995.27  16212.91  252695.403670   \n",
       "2022-11-29  16212.18  16548.71  16100.00  16442.53  248106.250090   \n",
       "2022-11-30  16442.91  17249.00  16428.30  17163.64  303019.807190   \n",
       "2022-12-01  17165.53  17324.00  16855.01  16977.37  232818.182180   \n",
       "2022-12-02  16978.00  17105.73  16787.85  17064.91  193872.647850   \n",
       "\n",
       "               close_time      quote_av   trades     tb_base_av   tb_quote_av  \n",
       "timestamp                                                                      \n",
       "2017-08-17  1503014399999  3.454770e+06     3427     616.248541  2.678216e+06  \n",
       "2017-08-18  1503100799999  5.086958e+06     5233     972.868710  4.129123e+06  \n",
       "2017-08-19  1503187199999  1.549484e+06     2153     274.336042  1.118002e+06  \n",
       "2017-08-20  1503273599999  1.930364e+06     2321     376.795947  1.557401e+06  \n",
       "2017-08-21  1503359999999  2.797232e+06     3972     557.356107  2.255663e+06  \n",
       "...                   ...           ...      ...            ...           ...  \n",
       "2022-11-28  1669679999999  4.096399e+09  5570407  125766.806390  2.038825e+09  \n",
       "2022-11-29  1669766399999  4.072651e+09  5206638  123715.140390  2.030828e+09  \n",
       "2022-11-30  1669852799999  5.123595e+09  6519330  151764.572850  2.566042e+09  \n",
       "2022-12-01  1669939199999  3.972607e+09  5097720  116018.888670  1.979693e+09  \n",
       "2022-12-02  1670025599999  3.287310e+09  4142064   95448.463220  1.618398e+09  \n",
       "\n",
       "[1934 rows x 10 columns]"
      ]
     },
     "execution_count": 8,
     "metadata": {},
     "output_type": "execute_result"
    }
   ],
   "source": [
    "df_cryptopair = pd.read_csv('extracted_data/BTCUSDT_1dBars.csv')\n",
    "df_cryptopair.set_index('timestamp', inplace=True)\n",
    "df_cryptopair"
   ]
  },
  {
   "cell_type": "markdown",
   "metadata": {},
   "source": [
    "Asstets with the biggest number of average daily sales"
   ]
  },
  {
   "cell_type": "code",
   "execution_count": 15,
   "metadata": {},
   "outputs": [
    {
     "data": {
      "text/html": [
       "<div>\n",
       "<style scoped>\n",
       "    .dataframe tbody tr th:only-of-type {\n",
       "        vertical-align: middle;\n",
       "    }\n",
       "\n",
       "    .dataframe tbody tr th {\n",
       "        vertical-align: top;\n",
       "    }\n",
       "\n",
       "    .dataframe thead th {\n",
       "        text-align: right;\n",
       "    }\n",
       "</style>\n",
       "<table border=\"1\" class=\"dataframe\">\n",
       "  <thead>\n",
       "    <tr style=\"text-align: right;\">\n",
       "      <th></th>\n",
       "      <th>symbol</th>\n",
       "      <th>average_num_of_trades</th>\n",
       "    </tr>\n",
       "  </thead>\n",
       "  <tbody>\n",
       "    <tr>\n",
       "      <th>0</th>\n",
       "      <td>BTCUSDT</td>\n",
       "      <td>1178947.79</td>\n",
       "    </tr>\n",
       "    <tr>\n",
       "      <th>287</th>\n",
       "      <td>SHIBUSDT</td>\n",
       "      <td>612372.36</td>\n",
       "    </tr>\n",
       "    <tr>\n",
       "      <th>1</th>\n",
       "      <td>ETHUSDT</td>\n",
       "      <td>535600.34</td>\n",
       "    </tr>\n",
       "    <tr>\n",
       "      <th>392</th>\n",
       "      <td>GMTUSDT</td>\n",
       "      <td>505007.69</td>\n",
       "    </tr>\n",
       "    <tr>\n",
       "      <th>416</th>\n",
       "      <td>HOOKUSDT</td>\n",
       "      <td>466904.00</td>\n",
       "    </tr>\n",
       "    <tr>\n",
       "      <th>119</th>\n",
       "      <td>SOLUSDT</td>\n",
       "      <td>392736.93</td>\n",
       "    </tr>\n",
       "    <tr>\n",
       "      <th>53</th>\n",
       "      <td>DOGEUSDT</td>\n",
       "      <td>380648.98</td>\n",
       "    </tr>\n",
       "    <tr>\n",
       "      <th>171</th>\n",
       "      <td>DOTUSDT</td>\n",
       "      <td>361009.67</td>\n",
       "    </tr>\n",
       "    <tr>\n",
       "      <th>2</th>\n",
       "      <td>BNBUSDT</td>\n",
       "      <td>328098.81</td>\n",
       "    </tr>\n",
       "    <tr>\n",
       "      <th>330</th>\n",
       "      <td>GALAUSDT</td>\n",
       "      <td>323515.37</td>\n",
       "    </tr>\n",
       "  </tbody>\n",
       "</table>\n",
       "</div>"
      ],
      "text/plain": [
       "       symbol  average_num_of_trades\n",
       "0     BTCUSDT             1178947.79\n",
       "287  SHIBUSDT              612372.36\n",
       "1     ETHUSDT              535600.34\n",
       "392   GMTUSDT              505007.69\n",
       "416  HOOKUSDT              466904.00\n",
       "119   SOLUSDT              392736.93\n",
       "53   DOGEUSDT              380648.98\n",
       "171   DOTUSDT              361009.67\n",
       "2     BNBUSDT              328098.81\n",
       "330  GALAUSDT              323515.37"
      ]
     },
     "execution_count": 15,
     "metadata": {},
     "output_type": "execute_result"
    }
   ],
   "source": [
    "pd.set_option('display.float_format', '{:.2f}'.format)\n",
    "trades_ave = []\n",
    "for index, row in df_tickers.iterrows():\n",
    "    df_cryptopair = pd.read_csv('extracted_data/{}_1dBars.csv'.format(row['symbol']))\n",
    "    trades_ave.append({'symbol': row['symbol'], 'average_num_of_trades': df_cryptopair[\"trades\"].mean()})\n",
    "df_trades_ave = pd.DataFrame(trades_ave)\n",
    "top_10_ave_num_of_trades = df_trades_ave.nlargest(10,'average_num_of_trades')"
   ]
  },
  {
   "cell_type": "code",
   "execution_count": 16,
   "metadata": {},
   "outputs": [],
   "source": [
    "import plotly.express as px"
   ]
  },
  {
   "cell_type": "code",
   "execution_count": 28,
   "metadata": {},
   "outputs": [
    {
     "data": {
      "application/vnd.plotly.v1+json": {
       "config": {
        "plotlyServerURL": "https://plot.ly"
       },
       "data": [
        {
         "alignmentgroup": "True",
         "hovertemplate": "symbol=%{x}<br>average_num_of_trades=%{y}<extra></extra>",
         "legendgroup": "",
         "marker": {
          "color": "#636efa",
          "pattern": {
           "shape": ""
          }
         },
         "name": "",
         "offsetgroup": "",
         "orientation": "v",
         "showlegend": false,
         "textposition": "auto",
         "texttemplate": "%{y:.2s}",
         "type": "bar",
         "x": [
          "BTCUSDT",
          "SHIBUSDT",
          "ETHUSDT",
          "GMTUSDT",
          "HOOKUSDT",
          "SOLUSDT",
          "DOGEUSDT",
          "DOTUSDT",
          "BNBUSDT",
          "GALAUSDT"
         ],
         "xaxis": "x",
         "y": [
          1178947.7895553256,
          612372.3566433566,
          535600.3402275078,
          505007.6914498141,
          466904,
          392736.92535545025,
          380648.9815557338,
          361009.6690561529,
          328098.8111171074,
          323515.36771300447
         ],
         "yaxis": "y"
        }
       ],
       "layout": {
        "barmode": "relative",
        "legend": {
         "tracegroupgap": 0
        },
        "template": {
         "data": {
          "bar": [
           {
            "error_x": {
             "color": "#2a3f5f"
            },
            "error_y": {
             "color": "#2a3f5f"
            },
            "marker": {
             "line": {
              "color": "#E5ECF6",
              "width": 0.5
             },
             "pattern": {
              "fillmode": "overlay",
              "size": 10,
              "solidity": 0.2
             }
            },
            "type": "bar"
           }
          ],
          "barpolar": [
           {
            "marker": {
             "line": {
              "color": "#E5ECF6",
              "width": 0.5
             },
             "pattern": {
              "fillmode": "overlay",
              "size": 10,
              "solidity": 0.2
             }
            },
            "type": "barpolar"
           }
          ],
          "carpet": [
           {
            "aaxis": {
             "endlinecolor": "#2a3f5f",
             "gridcolor": "white",
             "linecolor": "white",
             "minorgridcolor": "white",
             "startlinecolor": "#2a3f5f"
            },
            "baxis": {
             "endlinecolor": "#2a3f5f",
             "gridcolor": "white",
             "linecolor": "white",
             "minorgridcolor": "white",
             "startlinecolor": "#2a3f5f"
            },
            "type": "carpet"
           }
          ],
          "choropleth": [
           {
            "colorbar": {
             "outlinewidth": 0,
             "ticks": ""
            },
            "type": "choropleth"
           }
          ],
          "contour": [
           {
            "colorbar": {
             "outlinewidth": 0,
             "ticks": ""
            },
            "colorscale": [
             [
              0,
              "#0d0887"
             ],
             [
              0.1111111111111111,
              "#46039f"
             ],
             [
              0.2222222222222222,
              "#7201a8"
             ],
             [
              0.3333333333333333,
              "#9c179e"
             ],
             [
              0.4444444444444444,
              "#bd3786"
             ],
             [
              0.5555555555555556,
              "#d8576b"
             ],
             [
              0.6666666666666666,
              "#ed7953"
             ],
             [
              0.7777777777777778,
              "#fb9f3a"
             ],
             [
              0.8888888888888888,
              "#fdca26"
             ],
             [
              1,
              "#f0f921"
             ]
            ],
            "type": "contour"
           }
          ],
          "contourcarpet": [
           {
            "colorbar": {
             "outlinewidth": 0,
             "ticks": ""
            },
            "type": "contourcarpet"
           }
          ],
          "heatmap": [
           {
            "colorbar": {
             "outlinewidth": 0,
             "ticks": ""
            },
            "colorscale": [
             [
              0,
              "#0d0887"
             ],
             [
              0.1111111111111111,
              "#46039f"
             ],
             [
              0.2222222222222222,
              "#7201a8"
             ],
             [
              0.3333333333333333,
              "#9c179e"
             ],
             [
              0.4444444444444444,
              "#bd3786"
             ],
             [
              0.5555555555555556,
              "#d8576b"
             ],
             [
              0.6666666666666666,
              "#ed7953"
             ],
             [
              0.7777777777777778,
              "#fb9f3a"
             ],
             [
              0.8888888888888888,
              "#fdca26"
             ],
             [
              1,
              "#f0f921"
             ]
            ],
            "type": "heatmap"
           }
          ],
          "heatmapgl": [
           {
            "colorbar": {
             "outlinewidth": 0,
             "ticks": ""
            },
            "colorscale": [
             [
              0,
              "#0d0887"
             ],
             [
              0.1111111111111111,
              "#46039f"
             ],
             [
              0.2222222222222222,
              "#7201a8"
             ],
             [
              0.3333333333333333,
              "#9c179e"
             ],
             [
              0.4444444444444444,
              "#bd3786"
             ],
             [
              0.5555555555555556,
              "#d8576b"
             ],
             [
              0.6666666666666666,
              "#ed7953"
             ],
             [
              0.7777777777777778,
              "#fb9f3a"
             ],
             [
              0.8888888888888888,
              "#fdca26"
             ],
             [
              1,
              "#f0f921"
             ]
            ],
            "type": "heatmapgl"
           }
          ],
          "histogram": [
           {
            "marker": {
             "pattern": {
              "fillmode": "overlay",
              "size": 10,
              "solidity": 0.2
             }
            },
            "type": "histogram"
           }
          ],
          "histogram2d": [
           {
            "colorbar": {
             "outlinewidth": 0,
             "ticks": ""
            },
            "colorscale": [
             [
              0,
              "#0d0887"
             ],
             [
              0.1111111111111111,
              "#46039f"
             ],
             [
              0.2222222222222222,
              "#7201a8"
             ],
             [
              0.3333333333333333,
              "#9c179e"
             ],
             [
              0.4444444444444444,
              "#bd3786"
             ],
             [
              0.5555555555555556,
              "#d8576b"
             ],
             [
              0.6666666666666666,
              "#ed7953"
             ],
             [
              0.7777777777777778,
              "#fb9f3a"
             ],
             [
              0.8888888888888888,
              "#fdca26"
             ],
             [
              1,
              "#f0f921"
             ]
            ],
            "type": "histogram2d"
           }
          ],
          "histogram2dcontour": [
           {
            "colorbar": {
             "outlinewidth": 0,
             "ticks": ""
            },
            "colorscale": [
             [
              0,
              "#0d0887"
             ],
             [
              0.1111111111111111,
              "#46039f"
             ],
             [
              0.2222222222222222,
              "#7201a8"
             ],
             [
              0.3333333333333333,
              "#9c179e"
             ],
             [
              0.4444444444444444,
              "#bd3786"
             ],
             [
              0.5555555555555556,
              "#d8576b"
             ],
             [
              0.6666666666666666,
              "#ed7953"
             ],
             [
              0.7777777777777778,
              "#fb9f3a"
             ],
             [
              0.8888888888888888,
              "#fdca26"
             ],
             [
              1,
              "#f0f921"
             ]
            ],
            "type": "histogram2dcontour"
           }
          ],
          "mesh3d": [
           {
            "colorbar": {
             "outlinewidth": 0,
             "ticks": ""
            },
            "type": "mesh3d"
           }
          ],
          "parcoords": [
           {
            "line": {
             "colorbar": {
              "outlinewidth": 0,
              "ticks": ""
             }
            },
            "type": "parcoords"
           }
          ],
          "pie": [
           {
            "automargin": true,
            "type": "pie"
           }
          ],
          "scatter": [
           {
            "fillpattern": {
             "fillmode": "overlay",
             "size": 10,
             "solidity": 0.2
            },
            "type": "scatter"
           }
          ],
          "scatter3d": [
           {
            "line": {
             "colorbar": {
              "outlinewidth": 0,
              "ticks": ""
             }
            },
            "marker": {
             "colorbar": {
              "outlinewidth": 0,
              "ticks": ""
             }
            },
            "type": "scatter3d"
           }
          ],
          "scattercarpet": [
           {
            "marker": {
             "colorbar": {
              "outlinewidth": 0,
              "ticks": ""
             }
            },
            "type": "scattercarpet"
           }
          ],
          "scattergeo": [
           {
            "marker": {
             "colorbar": {
              "outlinewidth": 0,
              "ticks": ""
             }
            },
            "type": "scattergeo"
           }
          ],
          "scattergl": [
           {
            "marker": {
             "colorbar": {
              "outlinewidth": 0,
              "ticks": ""
             }
            },
            "type": "scattergl"
           }
          ],
          "scattermapbox": [
           {
            "marker": {
             "colorbar": {
              "outlinewidth": 0,
              "ticks": ""
             }
            },
            "type": "scattermapbox"
           }
          ],
          "scatterpolar": [
           {
            "marker": {
             "colorbar": {
              "outlinewidth": 0,
              "ticks": ""
             }
            },
            "type": "scatterpolar"
           }
          ],
          "scatterpolargl": [
           {
            "marker": {
             "colorbar": {
              "outlinewidth": 0,
              "ticks": ""
             }
            },
            "type": "scatterpolargl"
           }
          ],
          "scatterternary": [
           {
            "marker": {
             "colorbar": {
              "outlinewidth": 0,
              "ticks": ""
             }
            },
            "type": "scatterternary"
           }
          ],
          "surface": [
           {
            "colorbar": {
             "outlinewidth": 0,
             "ticks": ""
            },
            "colorscale": [
             [
              0,
              "#0d0887"
             ],
             [
              0.1111111111111111,
              "#46039f"
             ],
             [
              0.2222222222222222,
              "#7201a8"
             ],
             [
              0.3333333333333333,
              "#9c179e"
             ],
             [
              0.4444444444444444,
              "#bd3786"
             ],
             [
              0.5555555555555556,
              "#d8576b"
             ],
             [
              0.6666666666666666,
              "#ed7953"
             ],
             [
              0.7777777777777778,
              "#fb9f3a"
             ],
             [
              0.8888888888888888,
              "#fdca26"
             ],
             [
              1,
              "#f0f921"
             ]
            ],
            "type": "surface"
           }
          ],
          "table": [
           {
            "cells": {
             "fill": {
              "color": "#EBF0F8"
             },
             "line": {
              "color": "white"
             }
            },
            "header": {
             "fill": {
              "color": "#C8D4E3"
             },
             "line": {
              "color": "white"
             }
            },
            "type": "table"
           }
          ]
         },
         "layout": {
          "annotationdefaults": {
           "arrowcolor": "#2a3f5f",
           "arrowhead": 0,
           "arrowwidth": 1
          },
          "autotypenumbers": "strict",
          "coloraxis": {
           "colorbar": {
            "outlinewidth": 0,
            "ticks": ""
           }
          },
          "colorscale": {
           "diverging": [
            [
             0,
             "#8e0152"
            ],
            [
             0.1,
             "#c51b7d"
            ],
            [
             0.2,
             "#de77ae"
            ],
            [
             0.3,
             "#f1b6da"
            ],
            [
             0.4,
             "#fde0ef"
            ],
            [
             0.5,
             "#f7f7f7"
            ],
            [
             0.6,
             "#e6f5d0"
            ],
            [
             0.7,
             "#b8e186"
            ],
            [
             0.8,
             "#7fbc41"
            ],
            [
             0.9,
             "#4d9221"
            ],
            [
             1,
             "#276419"
            ]
           ],
           "sequential": [
            [
             0,
             "#0d0887"
            ],
            [
             0.1111111111111111,
             "#46039f"
            ],
            [
             0.2222222222222222,
             "#7201a8"
            ],
            [
             0.3333333333333333,
             "#9c179e"
            ],
            [
             0.4444444444444444,
             "#bd3786"
            ],
            [
             0.5555555555555556,
             "#d8576b"
            ],
            [
             0.6666666666666666,
             "#ed7953"
            ],
            [
             0.7777777777777778,
             "#fb9f3a"
            ],
            [
             0.8888888888888888,
             "#fdca26"
            ],
            [
             1,
             "#f0f921"
            ]
           ],
           "sequentialminus": [
            [
             0,
             "#0d0887"
            ],
            [
             0.1111111111111111,
             "#46039f"
            ],
            [
             0.2222222222222222,
             "#7201a8"
            ],
            [
             0.3333333333333333,
             "#9c179e"
            ],
            [
             0.4444444444444444,
             "#bd3786"
            ],
            [
             0.5555555555555556,
             "#d8576b"
            ],
            [
             0.6666666666666666,
             "#ed7953"
            ],
            [
             0.7777777777777778,
             "#fb9f3a"
            ],
            [
             0.8888888888888888,
             "#fdca26"
            ],
            [
             1,
             "#f0f921"
            ]
           ]
          },
          "colorway": [
           "#636efa",
           "#EF553B",
           "#00cc96",
           "#ab63fa",
           "#FFA15A",
           "#19d3f3",
           "#FF6692",
           "#B6E880",
           "#FF97FF",
           "#FECB52"
          ],
          "font": {
           "color": "#2a3f5f"
          },
          "geo": {
           "bgcolor": "white",
           "lakecolor": "white",
           "landcolor": "#E5ECF6",
           "showlakes": true,
           "showland": true,
           "subunitcolor": "white"
          },
          "hoverlabel": {
           "align": "left"
          },
          "hovermode": "closest",
          "mapbox": {
           "style": "light"
          },
          "paper_bgcolor": "white",
          "plot_bgcolor": "#E5ECF6",
          "polar": {
           "angularaxis": {
            "gridcolor": "white",
            "linecolor": "white",
            "ticks": ""
           },
           "bgcolor": "#E5ECF6",
           "radialaxis": {
            "gridcolor": "white",
            "linecolor": "white",
            "ticks": ""
           }
          },
          "scene": {
           "xaxis": {
            "backgroundcolor": "#E5ECF6",
            "gridcolor": "white",
            "gridwidth": 2,
            "linecolor": "white",
            "showbackground": true,
            "ticks": "",
            "zerolinecolor": "white"
           },
           "yaxis": {
            "backgroundcolor": "#E5ECF6",
            "gridcolor": "white",
            "gridwidth": 2,
            "linecolor": "white",
            "showbackground": true,
            "ticks": "",
            "zerolinecolor": "white"
           },
           "zaxis": {
            "backgroundcolor": "#E5ECF6",
            "gridcolor": "white",
            "gridwidth": 2,
            "linecolor": "white",
            "showbackground": true,
            "ticks": "",
            "zerolinecolor": "white"
           }
          },
          "shapedefaults": {
           "line": {
            "color": "#2a3f5f"
           }
          },
          "ternary": {
           "aaxis": {
            "gridcolor": "white",
            "linecolor": "white",
            "ticks": ""
           },
           "baxis": {
            "gridcolor": "white",
            "linecolor": "white",
            "ticks": ""
           },
           "bgcolor": "#E5ECF6",
           "caxis": {
            "gridcolor": "white",
            "linecolor": "white",
            "ticks": ""
           }
          },
          "title": {
           "x": 0.05
          },
          "xaxis": {
           "automargin": true,
           "gridcolor": "white",
           "linecolor": "white",
           "ticks": "",
           "title": {
            "standoff": 15
           },
           "zerolinecolor": "white",
           "zerolinewidth": 2
          },
          "yaxis": {
           "automargin": true,
           "gridcolor": "white",
           "linecolor": "white",
           "ticks": "",
           "title": {
            "standoff": 15
           },
           "zerolinecolor": "white",
           "zerolinewidth": 2
          }
         }
        },
        "title": {
         "text": "top 10"
        },
        "xaxis": {
         "anchor": "y",
         "domain": [
          0,
          1
         ],
         "title": {
          "text": "symbol"
         }
        },
        "yaxis": {
         "anchor": "x",
         "domain": [
          0,
          1
         ],
         "title": {
          "text": "average_num_of_trades"
         }
        }
       }
      }
     },
     "metadata": {},
     "output_type": "display_data"
    }
   ],
   "source": [
    "px.bar(top_10_ave_num_of_trades, x='symbol', y='average_num_of_trades', title=\"top 10\", text_auto='.2s')"
   ]
  },
  {
   "cell_type": "markdown",
   "metadata": {},
   "source": [
    "Volume analysis (24h)"
   ]
  }
 ],
 "metadata": {
  "kernelspec": {
   "display_name": "Python 3.10.2 ('minimal_ds')",
   "language": "python",
   "name": "python3"
  },
  "language_info": {
   "codemirror_mode": {
    "name": "ipython",
    "version": 3
   },
   "file_extension": ".py",
   "mimetype": "text/x-python",
   "name": "python",
   "nbconvert_exporter": "python",
   "pygments_lexer": "ipython3",
   "version": "3.10.2"
  },
  "orig_nbformat": 4,
  "vscode": {
   "interpreter": {
    "hash": "b597c1f5543bfe1880c6239a1776936c47eda0882ba868f38e3d3a6f466ec2ee"
   }
  }
 },
 "nbformat": 4,
 "nbformat_minor": 2
}
